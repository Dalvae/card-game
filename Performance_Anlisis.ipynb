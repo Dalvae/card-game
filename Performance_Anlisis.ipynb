{
  "cells": [
    {
      "cell_type": "markdown",
      "metadata": {
        "id": "BEJCVwnbJCqA"
      },
      "source": [
        "# Análisis de Performance de Métodos: Array vs Stack\n",
        "\n",
        "## Introducción\n",
        "\n",
        "En este análisis, comparamos la performance de dos métodos, `array` y `stack`, a través de tres operaciones principales: `renderInitialDecks`, `moveOneCard`, y `moveTenCards`. Utilizaremos estadísticas descriptivas y pruebas estadísticas para determinar si existen diferencias significativas entre los métodos.\n",
        "\n",
        "Se crearon branch de test para ambos metodos y se corrieron las mismas pruebas con React Testing Library. Los resultados se pueden ver en las branchs `test-stack` y `test-array` respectivamente.\n",
        "\n",
        "El problema deriva de que un stack es por definicion mutable, entonces react no activa una re renderizacion si es que metemos u nuevo elemento al stack. Esto nos deja  con la opcion de crear nuevos elementos cada vez.\n"
      ]
    },
    {
      "cell_type": "code",
      "execution_count": 3,
      "metadata": {
        "colab": {
          "base_uri": "https://localhost:8080/"
        },
        "id": "z4M51bQDIUuX",
        "outputId": "189d4231-71ba-497a-acff-6fec3f3dec5b"
      },
      "outputs": [
        {
          "name": "stdout",
          "output_type": "stream",
          "text": [
            "Método Array\n",
            "renderInitialDecks - Media: 166.65, Mediana: 161.81, Desviación Estándar: 15.25\n",
            "moveOneCard - Media: 168.55, Mediana: 163.16, Desviación Estándar: 30.77\n",
            "moveTenCards - Media: 3301.12, Mediana: 3328.34, Desviación Estándar: 176.16\n",
            "\n",
            "Método Stack\n",
            "renderInitialDecks - Media: 163.17, Mediana: 158.24, Desviación Estándar: 13.83\n",
            "moveOneCard - Media: 160.64, Mediana: 151.04, Desviación Estándar: 25.31\n",
            "moveTenCards - Media: 3263.13, Mediana: 3179.72, Desviación Estándar: 194.40\n",
            "\n",
            "Pruebas t-test entre Array y Stack\n",
            "renderInitialDecks - t-stat: 0.74, p-value: 0.4666\n",
            "moveOneCard - t-stat: 0.86, p-value: 0.3926\n",
            "moveTenCards - t-stat: 0.63, p-value: 0.5316\n"
          ]
        }
      ],
      "source": [
        "import numpy as np\n",
        "import scipy.stats as stats\n",
        "\n",
        "# Datos del método array\n",
        "array_render_initial_decks = [\n",
        "    192.64019700000017, 150.57450900000003, 151.14973899999995, 149.4158950000001, 162.34827199999972,\n",
        "    201.52962799999978, 205.19094499999983, 160.44272299999966, 160.22220199999992, 174.72837500000014,\n",
        "    162.20295700000042, 162.06231099999968, 165.62416500000018, 160.6499870000007, 160.0624539999999,\n",
        "    158.55699499999992, 161.80556700000034, 172.39881700000024, 159.53960500000085, 161.81294499999967\n",
        "]\n",
        "array_move_one_card = [\n",
        "    179.70161699999971, 162.4879230000006, 298.85108500000024, 156.10879400000067, 165.422149,\n",
        "    153.575922, 158.7946460000012, 153.65013, 153.40271799999937, 155.0465120000008,\n",
        "    153.7578709999998, 169.35353899999973, 152.98605199999838, 156.59165699999903, 173.36339000000044,\n",
        "    164.8803429999989, 165.95864599999913, 163.8390189999991, 168.00763099999858, 165.13518099999965\n",
        "]\n",
        "array_move_ten_cards = [\n",
        "    3189.332079, 3280.338603000002, 3337.7634450000005, 3611.7865380000003, 3378.8423440000006,\n",
        "    3439.533408999996, 3335.8298270000014, 3467.3151599999983, 3009.734881999997, 3382.833644999999,\n",
        "    3138.1730240000034, 3146.012630999998, 3568.907726999998, 3320.8442649999997, 3090.7883660000007,\n",
        "    3501.716106000007, 3095.731449999992, 3125.6565599999885, 3505.723727000004, 3095.5803670000023\n",
        "]\n",
        "\n",
        "# Datos del método stack\n",
        "stack_render_initial_decks = [\n",
        "    186.89517700000033, 145.4672369999996, 150.90960500000074, 152.4151440000005, 166.26546299999973,\n",
        "    195.50629599999957, 196.7610510000004, 154.07086499999969, 158.1268739999996, 154.89961399999993,\n",
        "    158.3470210000005, 157.5145910000001, 157.72561599999972, 160.47725699999955, 157.1736780000001,\n",
        "    154.82910600000014, 160.2568650000003, 173.49589000000014, 160.29677600000014, 162.05494\n",
        "]\n",
        "stack_move_one_card = [\n",
        "    167.02438900000016, 163.15143199999966, 163.19129299999986, 267.32863199999974, 149.13220899999942,\n",
        "    150.08053199999995, 149.92696800000067, 149.2770759999985, 150.27351799999997, 151.03710400000182,\n",
        "    150.16107899999952, 151.04235399999925, 147.20026300000063, 147.5027170000012, 149.82702299999983,\n",
        "    159.69093900000007, 162.65646799999922, 160.85714799999914, 163.1411879999996, 160.31933200000094\n",
        "]\n",
        "stack_move_ten_cards = [\n",
        "    3214.6246269999992, 3144.813052999998, 3069.159448999999, 3653.327380999999, 3381.4223710000006,\n",
        "    3431.145489999999, 3272.321723000001, 3369.1545409999962, 3079.541023000005, 3430.5949180000025,\n",
        "    3050.119298999998, 3112.3834419999985, 3475.732612, 3065.3367299999954, 3121.160659000001,\n",
        "    3573.493776999996, 3079.80227, 3104.962360000005, 3541.484998, 3091.9507999999914\n",
        "]\n",
        "\n",
        "# Función para imprimir estadísticas descriptivas\n",
        "def print_statistics(name, data):\n",
        "    print(f\"{name} - Media: {np.mean(data):.2f}, Mediana: {np.median(data):.2f}, Desviación Estándar: {np.std(data):.2f}\")\n",
        "\n",
        "# Estadísticas descriptivas\n",
        "print(\"Método Array\")\n",
        "print_statistics(\"renderInitialDecks\", array_render_initial_decks)\n",
        "print_statistics(\"moveOneCard\", array_move_one_card)\n",
        "print_statistics(\"moveTenCards\", array_move_ten_cards)\n",
        "\n",
        "print(\"\\nMétodo Stack\")\n",
        "print_statistics(\"renderInitialDecks\", stack_render_initial_decks)\n",
        "print_statistics(\"moveOneCard\", stack_move_one_card)\n",
        "print_statistics(\"moveTenCards\", stack_move_ten_cards)\n",
        "\n",
        "# Pruebas estadísticas de comparación (t-test)\n",
        "def perform_ttest(data1, data2, name):\n",
        "    t_stat, p_value = stats.ttest_ind(data1, data2)\n",
        "    print(f\"{name} - t-stat: {t_stat:.2f}, p-value: {p_value:.4f}\")\n",
        "\n",
        "print(\"\\nPruebas t-test entre Array y Stack\")\n",
        "perform_ttest(array_render_initial_decks, stack_render_initial_decks, \"renderInitialDecks\")\n",
        "perform_ttest(array_move_one_card, stack_move_one_card, \"moveOneCard\")\n",
        "perform_ttest(array_move_ten_cards, stack_move_ten_cards, \"moveTenCards\")"
      ]
    },
    {
      "cell_type": "markdown",
      "metadata": {
        "id": "SfUSjkBSJ55M"
      },
      "source": [
        "## Conclusión\n",
        "\n",
        "### Interpretación de Resultados\n",
        "\n",
        "1. **Estadísticas Descriptivas**:\n",
        "   - **renderInitialDecks**: El método `stack` tiene una media y mediana ligeramente menores que el método `array`, sugiriendo que podría ser más rápido en promedio. Sin embargo, la diferencia no es significativa.\n",
        "   - **moveOneCard**: Ambas medidas indican que `stack` es ligeramente más rápido que `array`, pero la diferencia no es muy significativa.\n",
        "   - **moveTenCards**: Las medias y medianas son similares, indicando que ambos métodos tienen un rendimiento comparable.\n",
        "\n",
        "2. **Pruebas t-test**:\n",
        "   - Los p-valores altos (mayores a 0.05) en todas las pruebas t-test indican que no hay diferencias significativas entre los dos métodos para ninguna de las operaciones. Esto sugiere que, estadísticamente, los métodos `array` y `stack` tienen un rendimiento similar.\n",
        "\n",
        "### Eficiencia en el Contexto de React\n",
        "\n",
        "En el contexto de React, los resultados observados pueden explicarse por cómo React maneja la reconciliación y el renderizado:\n",
        "\n",
        "- **Algoritmo de Reconciliación de React**: React utiliza un algoritmo eficiente de reconciliación que minimiza las actualizaciones del DOM. Incluso si el método `stack` crea un nuevo stack cada vez con los mismos datos, React es capaz de optimizar las actualizaciones, lo que resulta en tiempos de renderizado similares al método `array`.\n",
        "\n",
        "- **Creación de Nuevos Stacks**: Aunque el método `stack` puede parecer más ineficiente debido a la necesidad de crear un nuevo stack en cada actualización, el Virtual DOM de React y su algoritmo de reconciliación ayudan a mitigar esta ineficiencia al evitar actualizaciones innecesarias del DOM real.\n",
        "\n",
        "### Conclusión Final\n",
        "\n",
        "En resumen, aunque el método `stack` puede parecer más complicado y menos eficiente desde una perspectiva de implementación, el algoritmo de reconciliación de React ayuda a igualar la performance en comparación con el método `array`. Por lo tanto, en el contexto de una aplicación React, ambos métodos muestran un rendimiento similar, y la elección entre ellos en este caso va a depender de como se maneja los decks de cartas en la descripcion del juego. la idea de LIFO (`Last In, First Out `) es la que inspira esta decision al fin de cuentas.\n"
      ]
    }
  ],
  "metadata": {
    "colab": {
      "provenance": []
    },
    "kernelspec": {
      "display_name": "Python 3",
      "name": "python3"
    },
    "language_info": {
      "name": "python"
    }
  },
  "nbformat": 4,
  "nbformat_minor": 0
}
